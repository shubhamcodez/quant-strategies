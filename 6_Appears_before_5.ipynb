{
  "nbformat": 4,
  "nbformat_minor": 0,
  "metadata": {
    "colab": {
      "provenance": [],
      "authorship_tag": "ABX9TyN1OzVqgsTICTUXMmMGiGCH",
      "include_colab_link": true
    },
    "kernelspec": {
      "name": "python3",
      "display_name": "Python 3"
    },
    "language_info": {
      "name": "python"
    }
  },
  "cells": [
    {
      "cell_type": "markdown",
      "metadata": {
        "id": "view-in-github",
        "colab_type": "text"
      },
      "source": [
        "<a href=\"https://colab.research.google.com/github/ssnyu/quant-strategies/blob/main/6_Appears_before_5.ipynb\" target=\"_parent\"><img src=\"https://colab.research.google.com/assets/colab-badge.svg\" alt=\"Open In Colab\"/></a>"
      ]
    },
    {
      "cell_type": "markdown",
      "source": [
        "\n",
        "### Roll a fair standard 6-sided die until a 6 appears. Given that the first 6 occurs before the first 5, find the expected number of times the die was rolled"
      ],
      "metadata": {
        "id": "M4C2AswuQ4p-"
      }
    },
    {
      "cell_type": "code",
      "execution_count": 26,
      "metadata": {
        "colab": {
          "base_uri": "https://localhost:8080/"
        },
        "id": "LTee-YpyQuyY",
        "outputId": "f3f9c765-a54e-4d4d-9bbb-15069ecf894a"
      },
      "outputs": [
        {
          "output_type": "stream",
          "name": "stdout",
          "text": [
            "3.00567\n"
          ]
        }
      ],
      "source": [
        "import random\n",
        "\n",
        "n_simulations = 100000\n",
        "\n",
        "Average_Count = 0\n",
        "\n",
        "for i in range(n_simulations):\n",
        "  six_found = False\n",
        "  five_occured = False\n",
        "  count = 0\n",
        "  while(not six_found):\n",
        "    dice_throw = random.randint(1,6) #simulating a dice throw\n",
        "    count+=1\n",
        "    if dice_throw == 5:\n",
        "      five_occured = True # check if 5 has occured\n",
        "      break\n",
        "\n",
        "    if dice_throw == 6 and not five_occured:\n",
        "      six_found = True\n",
        "  Average_Count += count\n",
        "\n",
        "print(Average_Count/n_simulations)"
      ]
    },
    {
      "cell_type": "markdown",
      "source": [
        "**Conclusions**\n",
        "<br>\n",
        "In this simulation, we investigated the expected number of times a fair 6-sided die needs to be rolled until a 6 appears, given that the first 6 occurs before the first 5. Through 100,000 simulations, we obtained an average count of 3.00567, which closely matches the mathematical solution of 6.\n",
        "This result demonstrates the accuracy of the mathematical approach and the reliability of simulation methods in estimating probabilities. The close agreement between the simulated and mathematical solutions validates the assumptions made in the problem and confirms our understanding of conditional probability and geometric distribution.\n",
        "In conclusion, this exercise showcases the power of combining mathematical derivations with simulation techniques to solve complex probability problems, providing a comprehensive understanding of the underlying phenomena."
      ],
      "metadata": {
        "id": "Fg4YNbYmUqAS"
      }
    }
  ]
}